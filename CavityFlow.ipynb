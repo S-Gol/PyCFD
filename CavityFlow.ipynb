{
 "cells": [
  {
   "cell_type": "code",
   "execution_count": 1,
   "source": [
    "import FluidSim\r\n",
    "import numpy as np\r\n",
    "import matplotlib\r\n",
    "from matplotlib import pyplot as plt\r\n",
    "from matplotlib import animation\r\n",
    "from scipy import ndimage\r\n",
    "import cv2\r\n",
    "\r\n",
    "def smooth(data, kernel_size = 3):\r\n",
    "    kernel = np.ones([kernel_size, kernel_size]) / (kernel_size*kernel_size)\r\n",
    "    return ndimage.convolve(data, kernel)"
   ],
   "outputs": [],
   "metadata": {}
  },
  {
   "cell_type": "code",
   "execution_count": 9,
   "source": [
    "sim = FluidSim.FluidSim(200,200,2,2, dt=0.0001)\r\n",
    "sim.timestep()\r\n",
    "\r\n",
    "dye = np.zeros_like(sim.u)\r\n",
    "\r\n",
    "upscaleMult = 5\r\n",
    "arrowSpacing = 5\r\n",
    "\r\n",
    "imageSize = [sim.nx*upscaleMult, sim.ny * upscaleMult]\r\n",
    "\r\n",
    "upscaledIndices = (sim.indices * upscaleMult)[:,::arrowSpacing,::arrowSpacing]\r\n",
    "\r\n",
    "rowsUpsc = upscaledIndices[1,:,:].flatten()\r\n",
    "colsUpsc = upscaledIndices[0,:,:].flatten()\r\n",
    "\r\n",
    "rows = (rowsUpsc / upscaleMult).astype(np.int32)\r\n",
    "cols = (colsUpsc / upscaleMult).astype(np.int32)\r\n",
    "\r\n",
    "arrowOrigins = [[rowsUpsc[i], colsUpsc[i]] for i in range(len(rows))]\r\n",
    "window_name=\"PyCFD\"\r\n",
    "\r\n",
    "cv2.namedWindow(window_name,cv2.WINDOW_NORMAL)\r\n",
    "cv2.resizeWindow(window_name, imageSize[0],imageSize[1])\r\n",
    "\r\n",
    "fourcc = cv2.VideoWriter_fourcc(*\"mp4v\")\r\n",
    "video = cv2.VideoWriter('Output.mp4', fourcc,30, [imageSize[0], imageSize[1]], 0)\r\n",
    "while True:\r\n",
    "    #Simulation steps\r\n",
    "    sim.timestep()\r\n",
    "    dye[170:180,170:180] += 0.5\r\n",
    "    dye = sim.advectField(dye, sim.u, sim.v)\r\n",
    "    dye = smooth(dye)\r\n",
    "    \r\n",
    "    #Upscale\r\n",
    "    scaledImage = cv2.resize(dye, imageSize)\r\n",
    "    scaledImage = (scaledImage * 40).astype(np.uint8)\r\n",
    "    u = (sim.u[rows, cols].flatten()*arrowSpacing*10).astype(np.int32)\r\n",
    "    v = (sim.v[rows, cols].flatten()*arrowSpacing*10).astype(np.int32)\r\n",
    "    endX = colsUpsc+u\r\n",
    "    endY = rowsUpsc+v\r\n",
    "\r\n",
    "    for i in range(len(rows)):\r\n",
    "        cv2.arrowedLine(scaledImage, [colsUpsc[i], rowsUpsc[i]], [endX[i], endY[i]], 255)\r\n",
    "\r\n",
    "    \r\n",
    "    video.write(scaledImage)\r\n",
    "    cv2.imshow(window_name, scaledImage)\r\n",
    "    if cv2.waitKey(1) & 0xFF == ord('q'):\r\n",
    "        break\r\n",
    "video.release()\r\n",
    "cv2.destroyAllWindows()"
   ],
   "outputs": [],
   "metadata": {}
  }
 ],
 "metadata": {
  "interpreter": {
   "hash": "f373b9c250ed3b0a998e280c91e2688b2dd6d73ddffc7cc226348105802fd29b"
  },
  "kernelspec": {
   "name": "python3",
   "display_name": "Python 3.9.7 64-bit"
  },
  "language_info": {
   "codemirror_mode": {
    "name": "ipython",
    "version": 3
   },
   "file_extension": ".py",
   "mimetype": "text/x-python",
   "name": "python",
   "nbconvert_exporter": "python",
   "pygments_lexer": "ipython3",
   "version": "3.9.7"
  },
  "orig_nbformat": 4
 },
 "nbformat": 4,
 "nbformat_minor": 2
}