{
 "cells": [
  {
   "cell_type": "code",
   "execution_count": 1,
   "source": [
    "import numpy as np\r\n",
    "import matplotlib.pyplot as plt\r\n",
    "import FluidSim\r\n",
    "import RenderUtils"
   ],
   "outputs": [],
   "metadata": {}
  },
  {
   "cell_type": "markdown",
   "source": [
    "# Flow around a corner"
   ],
   "metadata": {}
  },
  {
   "cell_type": "code",
   "execution_count": 2,
   "source": [
    "xSize = 200\r\n",
    "ySize = 200\r\n",
    "\r\n",
    "cornerSize = 100\r\n",
    "\r\n",
    "walls = np.zeros([xSize, ySize], dtype=bool)\r\n",
    "\r\n",
    "walls[:,0:2]=True\r\n",
    "walls[-2::,:]=True\r\n",
    "\r\n",
    "walls[0:cornerSize,cornerSize::]=True\r\n",
    "\r\n",
    "walls = walls.transpose()\r\n",
    "\r\n",
    "velocities = [[x,y,0.02,0] for y in range(2,cornerSize) for x in range(0,5)]\r\n",
    "sim = FluidSim.FluidSim(xSize,ySize,0.02,0.02, dt=0.0001, walls=walls, nu=0.001/1000, rho = 1000)\r\n",
    "\r\n",
    "\r\n",
    "renderer = RenderUtils.FluidsRenderer(sim, forcedVel=velocities, colorMode=\"speed\", arrows=True, upscaleMult=3,arrowLength=2)\r\n",
    "renderer.startContinousRender()"
   ],
   "outputs": [],
   "metadata": {}
  },
  {
   "cell_type": "markdown",
   "source": [
    "# Flow over rectangle"
   ],
   "metadata": {}
  },
  {
   "cell_type": "code",
   "execution_count": 32,
   "source": [
    "xSize = 400\r\n",
    "ySize = 200\r\n",
    "\r\n",
    "cornerSize = 50\r\n",
    "\r\n",
    "walls = np.zeros([xSize, ySize], dtype=bool)\r\n",
    "\r\n",
    "walls[:,0:2]=True\r\n",
    "walls[:,-2::]=True\r\n",
    "\r\n",
    "walls[50:56,20:80]=True\r\n",
    "\r\n",
    "walls = walls.transpose()\r\n",
    "\r\n",
    "velocities = [[x,y,0.03,0] for y in range(0,ySize) for x in range(0,5)]\r\n",
    "sim = FluidSim.FluidSim(xSize,ySize,0.12,0.06, dt=0.00001, walls=walls, nu=0.001/1000, rho=1000)\r\n",
    "\r\n",
    "\r\n",
    "renderer = RenderUtils.FluidsRenderer(sim, forcedVel=velocities, upscaleMult=2, colorMode=\"speed\", arrows=False)\r\n",
    "\r\n",
    "renderer.startContinousRender()"
   ],
   "outputs": [],
   "metadata": {}
  },
  {
   "cell_type": "markdown",
   "source": [
    "# Flow over a circle"
   ],
   "metadata": {}
  },
  {
   "cell_type": "code",
   "execution_count": 15,
   "source": [
    "xSize = 600\r\n",
    "ySize = 200\r\n",
    "\r\n",
    "walls = np.zeros([xSize, ySize], dtype=bool)\r\n",
    "wallWidth = 5\r\n",
    "\r\n",
    "r = 20\r\n",
    "\r\n",
    "cx = r*4\r\n",
    "cy = int(ySize / 2)\r\n",
    "\r\n",
    "for x in range(xSize):\r\n",
    "    for y in range(ySize):\r\n",
    "        walls[x,y] = (np.sqrt((x-cx)**2+(y-cy)**2)<r)\r\n",
    "\r\n",
    "walls[:,0:wallWidth]=True\r\n",
    "walls[:,-wallWidth::]=True\r\n",
    "\r\n",
    "walls = walls.transpose()\r\n",
    "v=0.013\r\n",
    "velocities = [[x,y,v,0] for y in range(wallWidth,ySize-wallWidth)for x in range(1,wallWidth)]\r\n",
    "\r\n",
    "sim = FluidSim.FluidSim(xSize,ySize,0.12,0.04, dt=0.005, walls=walls, nu=0.001/1000, rho=1000)\r\n",
    "\r\n",
    "print(sim.dx)\r\n",
    "print(sim.dy)\r\n",
    "\r\n",
    "print(\"D: \" + str(sim.dx*r*2))\r\n",
    "print(\"RE: \" + str(v*sim.dx*r*2/sim.nu))\r\n",
    "\r\n",
    "renderer = RenderUtils.FluidsRenderer(sim, forcedVel=velocities, upscaleMult=4, colorMode=\"speed\", arrows=True,arrowLength=0.1)\r\n",
    "\r\n",
    "renderer.startContinousRender()"
   ],
   "outputs": [
    {
     "output_type": "stream",
     "name": "stdout",
     "text": [
      "0.00040133779264214044\n",
      "0.00040404040404040404\n",
      "D: 0.016053511705685617\n",
      "RE: 208.69565217391303\n"
     ]
    }
   ],
   "metadata": {}
  },
  {
   "cell_type": "markdown",
   "source": [
    "# Angle"
   ],
   "metadata": {}
  },
  {
   "cell_type": "code",
   "execution_count": null,
   "source": [
    "xSize = 100\r\n",
    "ySize = 100\r\n",
    "\r\n",
    "cornerSize = 50\r\n",
    "\r\n",
    "walls = np.zeros([xSize, ySize], dtype=bool)\r\n",
    "angleX = [x for x in range(20,40)]\r\n",
    "angleY = [x for x in range(20,40)]\r\n",
    "\r\n",
    "walls[0:2,:]=True\r\n",
    "walls[-2::,:]=True\r\n",
    "walls[angleX,angleY]=True\r\n",
    "\r\n",
    "\r\n",
    "velocities = [[5,y,5,0] for y in range(0,ySize)]\r\n",
    "sim = FluidSim.FluidSim(xSize,ySize,1,1, dt=0.00001, walls=walls, nu=0.0001, rho=1000)\r\n",
    "\r\n",
    "\r\n",
    "renderer = RenderUtils.FluidsRenderer(sim, forcedVel=velocities, upscaleMult=5, colorMode=\"LIC\")\r\n",
    "\r\n",
    "renderer.startContinousRender()"
   ],
   "outputs": [],
   "metadata": {}
  }
 ],
 "metadata": {
  "interpreter": {
   "hash": "f373b9c250ed3b0a998e280c91e2688b2dd6d73ddffc7cc226348105802fd29b"
  },
  "kernelspec": {
   "name": "python3",
   "display_name": "Python 3.9.7 64-bit"
  },
  "language_info": {
   "codemirror_mode": {
    "name": "ipython",
    "version": 3
   },
   "file_extension": ".py",
   "mimetype": "text/x-python",
   "name": "python",
   "nbconvert_exporter": "python",
   "pygments_lexer": "ipython3",
   "version": "3.9.7"
  },
  "orig_nbformat": 4
 },
 "nbformat": 4,
 "nbformat_minor": 2
}