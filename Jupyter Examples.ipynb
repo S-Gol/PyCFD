{
 "cells": [
  {
   "cell_type": "code",
   "execution_count": 1,
   "source": [
    "import numpy as np\r\n",
    "import matplotlib.pyplot as plt\r\n",
    "import FluidSim\r\n",
    "import RenderUtils\r\n"
   ],
   "outputs": [],
   "metadata": {}
  },
  {
   "cell_type": "markdown",
   "source": [
    "# Flow around a corner"
   ],
   "metadata": {}
  },
  {
   "cell_type": "code",
   "execution_count": 11,
   "source": [
    "xSize = 100\r\n",
    "ySize = 100\r\n",
    "\r\n",
    "cornerSize = 50\r\n",
    "\r\n",
    "walls = np.zeros([xSize, ySize], dtype=bool)\r\n",
    "\r\n",
    "walls[0:2,:]=True\r\n",
    "walls[:,-2::]=True\r\n",
    "\r\n",
    "walls[cornerSize::,0:cornerSize]=True\r\n",
    "\r\n",
    "velocities = [[5,y,1,0] for y in range(0,cornerSize)]\r\n",
    "sim = FluidSim.FluidSim(xSize,ySize,2,2, dt=0.00001, walls=walls, nu=0.1)\r\n",
    "\r\n",
    "\r\n",
    "renderer = RenderUtils.FluidsRenderer(sim, forcedVel=velocities, colorMode=\"LIC\")\r\n",
    "renderer.startContinousRender()"
   ],
   "outputs": [],
   "metadata": {}
  },
  {
   "cell_type": "markdown",
   "source": [
    "# Flow over rectangle"
   ],
   "metadata": {}
  },
  {
   "cell_type": "code",
   "execution_count": 3,
   "source": [
    "xSize = 100\r\n",
    "ySize = 100\r\n",
    "\r\n",
    "cornerSize = 50\r\n",
    "\r\n",
    "walls = np.zeros([xSize, ySize], dtype=bool)\r\n",
    "\r\n",
    "walls[0:2,:]=True\r\n",
    "walls[-2::,:]=True\r\n",
    "\r\n",
    "walls[20:80,50:51]=True\r\n",
    "\r\n",
    "\r\n",
    "velocities = [[5,y,5,0] for y in range(0,ySize)]\r\n",
    "sim = FluidSim.FluidSim(xSize,ySize,200,200, dt=0.00001, walls=walls, nu=0.001)\r\n",
    "\r\n",
    "\r\n",
    "renderer = RenderUtils.FluidsRenderer(sim, forcedVel=velocities, upscaleMult=5, colorMode=\"LIC\")\r\n",
    "\r\n",
    "renderer.startContinousRender()"
   ],
   "outputs": [],
   "metadata": {}
  },
  {
   "cell_type": "markdown",
   "source": [
    "# Angle"
   ],
   "metadata": {}
  },
  {
   "cell_type": "code",
   "execution_count": 10,
   "source": [
    "xSize = 100\r\n",
    "ySize = 100\r\n",
    "\r\n",
    "cornerSize = 50\r\n",
    "\r\n",
    "walls = np.zeros([xSize, ySize], dtype=bool)\r\n",
    "angleX = [x for x in range(20,40)]\r\n",
    "angleY = [x for x in range(20,40)]\r\n",
    "print(angleX)\r\n",
    "walls[0:2,:]=True\r\n",
    "walls[-2::,:]=True\r\n",
    "walls[angleX,angleY]=True\r\n",
    "\r\n",
    "\r\n",
    "velocities = [[5,y,5,0] for y in range(0,ySize)]\r\n",
    "sim = FluidSim.FluidSim(xSize,ySize,1,1, dt=0.00001, walls=walls, nu=0.001)\r\n",
    "\r\n",
    "\r\n",
    "renderer = RenderUtils.FluidsRenderer(sim, forcedVel=velocities, upscaleMult=5, colorMode=\"LIC\")\r\n",
    "\r\n",
    "renderer.startContinousRender()"
   ],
   "outputs": [
    {
     "output_type": "stream",
     "name": "stdout",
     "text": [
      "[20, 21, 22, 23, 24, 25, 26, 27, 28, 29, 30, 31, 32, 33, 34, 35, 36, 37, 38, 39]\n"
     ]
    }
   ],
   "metadata": {}
  }
 ],
 "metadata": {
  "orig_nbformat": 4,
  "language_info": {
   "name": "python",
   "version": "3.9.7",
   "mimetype": "text/x-python",
   "codemirror_mode": {
    "name": "ipython",
    "version": 3
   },
   "pygments_lexer": "ipython3",
   "nbconvert_exporter": "python",
   "file_extension": ".py"
  },
  "kernelspec": {
   "name": "python3",
   "display_name": "Python 3.9.7 64-bit"
  },
  "interpreter": {
   "hash": "f373b9c250ed3b0a998e280c91e2688b2dd6d73ddffc7cc226348105802fd29b"
  }
 },
 "nbformat": 4,
 "nbformat_minor": 2
}