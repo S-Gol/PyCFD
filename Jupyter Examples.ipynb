{
 "cells": [
  {
   "cell_type": "code",
   "execution_count": 1,
   "metadata": {},
   "outputs": [],
   "source": [
    "import numpy as np\n",
    "import matplotlib.pyplot as plt\n",
    "import FluidSim\n",
    "import RenderUtils"
   ]
  },
  {
   "cell_type": "markdown",
   "metadata": {},
   "source": [
    "# Flow around a corner"
   ]
  },
  {
   "cell_type": "code",
   "execution_count": 2,
   "metadata": {},
   "outputs": [],
   "source": [
    "xSize = 100\n",
    "ySize = 100\n",
    "\n",
    "cornerSize = 50\n",
    "\n",
    "walls = np.zeros([xSize, ySize], dtype=bool)\n",
    "\n",
    "walls[0:2,:]=True\n",
    "walls[:,-2::]=True\n",
    "\n",
    "walls[cornerSize::,0:cornerSize]=True\n",
    "\n",
    "velocities = [[1,y,1,0] for y in range(0,cornerSize)]\n",
    "sim = FluidSim.FluidSim(xSize,ySize,2,2, dt=0.0001, walls=walls, nu=0.001, rho = 1000)\n",
    "\n",
    "\n",
    "renderer = RenderUtils.FluidsRenderer(sim, forcedVel=velocities, colorMode=\"pressure\", arrows=False)\n",
    "renderer.startContinousRender()"
   ]
  },
  {
   "cell_type": "markdown",
   "metadata": {},
   "source": [
    "# Flow over rectangle"
   ]
  },
  {
   "cell_type": "code",
   "execution_count": 3,
   "metadata": {},
   "outputs": [],
   "source": [
    "xSize = 100\n",
    "ySize = 100\n",
    "\n",
    "cornerSize = 50\n",
    "\n",
    "walls = np.zeros([xSize, ySize], dtype=bool)\n",
    "\n",
    "walls[0:2,:]=True\n",
    "walls[-2::,:]=True\n",
    "\n",
    "walls[20:80,50:56]=True\n",
    "\n",
    "\n",
    "velocities = [[1,y,1,0] for y in range(0,ySize)]\n",
    "sim = FluidSim.FluidSim(xSize,ySize,2,2, dt=0.00001, walls=walls, nu=0.0001, rho=1000)\n",
    "\n",
    "\n",
    "renderer = RenderUtils.FluidsRenderer(sim, forcedVel=velocities, upscaleMult=5, colorMode=\"speed\", arrows=False)\n",
    "\n",
    "renderer.startContinousRender()"
   ]
  },
  {
   "cell_type": "code",
   "execution_count": 6,
   "metadata": {},
   "outputs": [],
   "source": [
    "xSize = 100\n",
    "ySize = 100\n",
    "\n",
    "cornerSize = 50\n",
    "\n",
    "walls = np.zeros([xSize, ySize], dtype=bool)\n",
    "\n",
    "r = 20\n",
    "for x in range(xSize):\n",
    "    for y in range(ySize):\n",
    "        walls[x,y] = np.sqrt((x-50)**2+(y-50)**2)<r\n",
    "walls[0:5,:]=True\n",
    "walls[-5::,:]=True\n",
    "\n",
    "\n",
    "velocities = [[1,y,1,0] for y in range(0,ySize)]\n",
    "sim = FluidSim.FluidSim(xSize,ySize,2,2, dt=0.00001, walls=walls, nu=0.0001, rho=1000)\n",
    "\n",
    "\n",
    "renderer = RenderUtils.FluidsRenderer(sim, forcedVel=velocities, upscaleMult=5, colorMode=\"speed\", arrows=False)\n",
    "\n",
    "renderer.startContinousRender()"
   ]
  },
  {
   "cell_type": "markdown",
   "metadata": {},
   "source": [
    "# Angle"
   ]
  },
  {
   "cell_type": "code",
   "execution_count": 5,
   "metadata": {},
   "outputs": [],
   "source": [
    "xSize = 100\n",
    "ySize = 100\n",
    "\n",
    "cornerSize = 50\n",
    "\n",
    "walls = np.zeros([xSize, ySize], dtype=bool)\n",
    "angleX = [x for x in range(20,40)]\n",
    "angleY = [x for x in range(20,40)]\n",
    "\n",
    "walls[0:2,:]=True\n",
    "walls[-2::,:]=True\n",
    "walls[angleX,angleY]=True\n",
    "\n",
    "\n",
    "velocities = [[5,y,5,0] for y in range(0,ySize)]\n",
    "sim = FluidSim.FluidSim(xSize,ySize,1,1, dt=0.00001, walls=walls, nu=0.0001, rho=1000)\n",
    "\n",
    "\n",
    "renderer = RenderUtils.FluidsRenderer(sim, forcedVel=velocities, upscaleMult=5, colorMode=\"LIC\")\n",
    "\n",
    "renderer.startContinousRender()"
   ]
  }
 ],
 "metadata": {
  "interpreter": {
   "hash": "0aa4897afac821febff936c1e315d75cb0dba5e4431c90b659ef5b82b1a63f37"
  },
  "kernelspec": {
   "display_name": "Python 3.7.9 64-bit",
   "name": "python3"
  },
  "language_info": {
   "codemirror_mode": {
    "name": "ipython",
    "version": 3
   },
   "file_extension": ".py",
   "mimetype": "text/x-python",
   "name": "python",
   "nbconvert_exporter": "python",
   "pygments_lexer": "ipython3",
   "version": "3.7.9"
  },
  "orig_nbformat": 4
 },
 "nbformat": 4,
 "nbformat_minor": 2
}
