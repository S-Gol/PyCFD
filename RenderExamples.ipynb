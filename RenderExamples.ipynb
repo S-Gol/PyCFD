{
 "cells": [
  {
   "cell_type": "code",
   "execution_count": 1,
   "source": [
    "import numpy as np\r\n",
    "import cv2\r\n",
    "from scipy import ndimage\r\n",
    "import FluidSim\r\n",
    "import RenderUtils\r\n",
    "\r\n",
    "xSize = 100\r\n",
    "ySize = 100\r\n",
    "\r\n",
    "walls = np.zeros([xSize, ySize], dtype=bool)\r\n",
    "walls[0:2,:]=True\r\n",
    "walls[-2:,:]=True\r\n",
    "\r\n",
    "r2=1000\r\n",
    "cx = 100\r\n",
    "cy = 100\r\n",
    "xs = []\r\n",
    "ys = []\r\n",
    "for x in range(xSize):\r\n",
    "    for y in range(ySize):\r\n",
    "        r = (x-cx)**2+(y-cy)**2\r\n",
    "        if r < r2:\r\n",
    "            xs.append(x)\r\n",
    "            ys.append(y)\r\n",
    "\r\n",
    "\r\n",
    "velocities = [[5,y,1,0] for y in range(0,ySize)]\r\n",
    "walls[xs, ys] = True\r\n",
    "sim = FluidSim.FluidSim(xSize,ySize,2,2, dt=0.00001, walls=walls, nu=0.1)\r\n",
    "\r\n",
    "dyePoints = [[20,20,5]]\r\n",
    "\r\n",
    "\r\n",
    "renderer = FluidsRenderer(sim, forcedVel=velocities, dyePoints=dyePoints)\r\n",
    "renderer.startContinousRender()\r\n"
   ],
   "outputs": [
    {
     "output_type": "error",
     "ename": "NameError",
     "evalue": "name 'FluidsRenderer' is not defined",
     "traceback": [
      "\u001b[1;31m---------------------------------------------------------------------------\u001b[0m",
      "\u001b[1;31mNameError\u001b[0m                                 Traceback (most recent call last)",
      "\u001b[1;32m~\\AppData\\Local\\Temp/ipykernel_892/2395086714.py\u001b[0m in \u001b[0;36m<module>\u001b[1;34m\u001b[0m\n\u001b[0;32m     31\u001b[0m \u001b[1;33m\u001b[0m\u001b[0m\n\u001b[0;32m     32\u001b[0m \u001b[1;33m\u001b[0m\u001b[0m\n\u001b[1;32m---> 33\u001b[1;33m \u001b[0mrenderer\u001b[0m \u001b[1;33m=\u001b[0m \u001b[0mFluidsRenderer\u001b[0m\u001b[1;33m(\u001b[0m\u001b[0msim\u001b[0m\u001b[1;33m,\u001b[0m \u001b[0mforcedVel\u001b[0m\u001b[1;33m=\u001b[0m\u001b[0mvelocities\u001b[0m\u001b[1;33m,\u001b[0m \u001b[0mdyePoints\u001b[0m\u001b[1;33m=\u001b[0m\u001b[0mdyePoints\u001b[0m\u001b[1;33m)\u001b[0m\u001b[1;33m\u001b[0m\u001b[1;33m\u001b[0m\u001b[0m\n\u001b[0m\u001b[0;32m     34\u001b[0m \u001b[0mrenderer\u001b[0m\u001b[1;33m.\u001b[0m\u001b[0mstartContinousRender\u001b[0m\u001b[1;33m(\u001b[0m\u001b[1;33m)\u001b[0m\u001b[1;33m\u001b[0m\u001b[1;33m\u001b[0m\u001b[0m\n",
      "\u001b[1;31mNameError\u001b[0m: name 'FluidsRenderer' is not defined"
     ]
    }
   ],
   "metadata": {}
  }
 ],
 "metadata": {
  "orig_nbformat": 4,
  "language_info": {
   "name": "python",
   "version": "3.9.7",
   "mimetype": "text/x-python",
   "codemirror_mode": {
    "name": "ipython",
    "version": 3
   },
   "pygments_lexer": "ipython3",
   "nbconvert_exporter": "python",
   "file_extension": ".py"
  },
  "kernelspec": {
   "name": "python3",
   "display_name": "Python 3.9.7 64-bit"
  },
  "interpreter": {
   "hash": "f373b9c250ed3b0a998e280c91e2688b2dd6d73ddffc7cc226348105802fd29b"
  }
 },
 "nbformat": 4,
 "nbformat_minor": 2
}