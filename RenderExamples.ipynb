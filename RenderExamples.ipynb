{
 "cells": [
  {
   "cell_type": "code",
   "execution_count": 1,
   "source": [
    "import numpy as np\r\n",
    "import matplotlib.pyplot as plt\r\n",
    "import FluidSim\r\n",
    "import RenderUtils\r\n",
    "\r\n",
    "xSize = 100\r\n",
    "ySize = 100\r\n",
    "\r\n",
    "cornerSize = 50\r\n",
    "\r\n",
    "walls = np.zeros([xSize, ySize], dtype=bool)\r\n",
    "\r\n",
    "walls[0:2,:]=True\r\n",
    "walls[:,-2::]=True\r\n",
    "\r\n",
    "walls[cornerSize::,0:cornerSize]=True"
   ],
   "outputs": [],
   "metadata": {}
  },
  {
   "cell_type": "code",
   "execution_count": 2,
   "source": [
    "plt.imshow(walls)"
   ],
   "outputs": [
    {
     "output_type": "execute_result",
     "data": {
      "text/plain": [
       "<matplotlib.image.AxesImage at 0x1c66dcb5fd0>"
      ]
     },
     "metadata": {},
     "execution_count": 2
    },
    {
     "output_type": "display_data",
     "data": {
      "image/png": "[encoded data removed]",
      "text/plain": [
       "<Figure size 432x288 with 1 Axes>"
      ]
     },
     "metadata": {
      "needs_background": "light"
     }
    }
   ],
   "metadata": {}
  },
  {
   "cell_type": "code",
   "execution_count": 3,
   "source": [
    "velocities = [[5,y,1,0] for y in range(0,cornerSize)]\r\n",
    "sim = FluidSim.FluidSim(xSize,ySize,2,2, dt=0.00001, walls=walls, nu=0.1)\r\n",
    "\r\n",
    "\r\n",
    "renderer = RenderUtils.FluidsRenderer(sim, forcedVel=velocities)\r\n",
    "renderer.startContinousRender()"
   ],
   "outputs": [],
   "metadata": {}
  }
 ],
 "metadata": {
  "orig_nbformat": 4,
  "language_info": {
   "name": "python",
   "version": "3.9.7",
   "mimetype": "text/x-python",
   "codemirror_mode": {
    "name": "ipython",
    "version": 3
   },
   "pygments_lexer": "ipython3",
   "nbconvert_exporter": "python",
   "file_extension": ".py"
  },
  "kernelspec": {
   "name": "python3",
   "display_name": "Python 3.9.7 64-bit"
  },
  "interpreter": {
   "hash": "f373b9c250ed3b0a998e280c91e2688b2dd6d73ddffc7cc226348105802fd29b"
  }
 },
 "nbformat": 4,
 "nbformat_minor": 2
}